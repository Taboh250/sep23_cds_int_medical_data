{
  "nbformat": 4,
  "nbformat_minor": 0,
  "metadata": {
    "colab": {
      "provenance": [],
      "authorship_tag": "ABX9TyMG7k26swRfbSgDCvQ9V2O4",
      "include_colab_link": true
    },
    "kernelspec": {
      "name": "python3",
      "display_name": "Python 3"
    },
    "language_info": {
      "name": "python"
    }
  },
  "cells": [
    {
      "cell_type": "markdown",
      "metadata": {
        "id": "view-in-github",
        "colab_type": "text"
      },
      "source": [
        "<a href=\"https://colab.research.google.com/github/jricardoct15/sep23_cds_int_medical_data/blob/main/sep23_cds_int_medical_data.ipynb\" target=\"_parent\"><img src=\"https://colab.research.google.com/assets/colab-badge.svg\" alt=\"Open In Colab\"/></a>"
      ]
    },
    {
      "cell_type": "markdown",
      "source": [
        "#Medical Project\n",
        "from Ricardo prototype\n"
      ],
      "metadata": {
        "id": "kY8X4wQU9PGt"
      }
    },
    {
      "cell_type": "code",
      "source": [
        "import pandas as pd\n",
        "from pathlib import Path\n",
        "import numpy as np\n",
        "import nibabel as nib\n",
        "from skimage import io\n",
        "from google.colab import drive\n",
        "import matplotlib.pyplot as plt"
      ],
      "metadata": {
        "id": "NdRdDZQggoph"
      },
      "execution_count": null,
      "outputs": []
    },
    {
      "cell_type": "markdown",
      "source": [
        "##Import Data\n",
        "###Target variable\n",
        "* hCon - hospital consultation\n",
        "* ADHD - Attention deficit hyperactivity disorder"
      ],
      "metadata": {
        "id": "jsvZj4Jpg3M_"
      }
    },
    {
      "cell_type": "code",
      "source": [
        "urlTrain_sexAge = \"https://github.com/jricardoct15/sep23_cds_int_medical_data/raw/main/Train_sexAge.csv\"\n",
        "dfTrain_sexAge = pd.read_csv(urlTrain_sexAge)"
      ],
      "metadata": {
        "id": "LI7gtNT8O2XY"
      },
      "execution_count": null,
      "outputs": []
    },
    {
      "cell_type": "code",
      "source": [
        "dfTrain_sexAge.info()\n",
        "dfTrain_sexAge['Age'].min()\n",
        "dfTrain_sexAge['Age'].max()"
      ],
      "metadata": {
        "colab": {
          "base_uri": "https://localhost:8080/"
        },
        "id": "R4B6jtfbhB-6",
        "outputId": "3507a9b7-15f1-462c-e580-854f2146d091"
      },
      "execution_count": null,
      "outputs": [
        {
          "output_type": "stream",
          "name": "stdout",
          "text": [
            "<class 'pandas.core.frame.DataFrame'>\n",
            "RangeIndex: 147 entries, 0 to 146\n",
            "Data columns (total 4 columns):\n",
            " #   Column  Non-Null Count  Dtype  \n",
            "---  ------  --------------  -----  \n",
            " 0   ID      147 non-null    object \n",
            " 1   target  147 non-null    object \n",
            " 2   Sex     147 non-null    int64  \n",
            " 3   Age     147 non-null    float64\n",
            "dtypes: float64(1), int64(1), object(2)\n",
            "memory usage: 4.7+ KB\n"
          ]
        },
        {
          "output_type": "execute_result",
          "data": {
            "text/plain": [
              "17.6"
            ]
          },
          "metadata": {},
          "execution_count": 3
        }
      ]
    },
    {
      "cell_type": "markdown",
      "source": [
        "### Import the nii.gz files\n",
        "nifti images"
      ],
      "metadata": {
        "id": "Ao7PJFZBWYuh"
      }
    },
    {
      "cell_type": "code",
      "source": [
        "drive.mount('/content/drive')"
      ],
      "metadata": {
        "colab": {
          "base_uri": "https://localhost:8080/"
        },
        "id": "C8lOe9msS5Wk",
        "outputId": "78e9768e-a1a4-4017-c5e9-e3f2e49b40c2"
      },
      "execution_count": null,
      "outputs": [
        {
          "output_type": "stream",
          "name": "stdout",
          "text": [
            "Mounted at /content/drive\n"
          ]
        }
      ]
    },
    {
      "cell_type": "code",
      "source": [
        "def OpenNiftiGitHubFile (PathAndFileName,UserName= \"jricardoct15\",GithubRepo=\"sep23_cds_int_medical_data\"):\n",
        "  ''' Open nifti files from git hub\n",
        "  User - github user name\n",
        "  PathAndFileName - includs path/filename.nii.gz\n",
        "  GithubRepo - Github Repository\n",
        "  '''\n",
        "  url = f\"https://github.com/{UserName}/{GithubRepo}/raw/main/{PathAndFileName}\"\n",
        "  !wget --no-cache --backups=1 {url}\n",
        "\n",
        "  data = nib.load(PathAndFileName).get_fdata()\n",
        "\n",
        "  !rm {PathAndFileName}\n",
        "  return data"
      ],
      "metadata": {
        "id": "HvlbJSygM97o"
      },
      "execution_count": null,
      "outputs": []
    },
    {
      "cell_type": "code",
      "source": [
        "#fileName = \"areg_ADHD_1003_brain.nii.gz\"\n",
        "fileName = input('Enter your nifti fileName:')\n",
        "img1 = OpenNiftiGitHubFile (fileName)"
      ],
      "metadata": {
        "id": "-hdc4kh0ISsm",
        "outputId": "5b64b6af-24ff-454b-9c46-b89d5ddcd7d8",
        "colab": {
          "base_uri": "https://localhost:8080/"
        }
      },
      "execution_count": null,
      "outputs": [
        {
          "output_type": "stream",
          "name": "stdout",
          "text": [
            "Enter your nifti fileName:areg_ADHD_1003_brain.nii.gz\n",
            "--2024-01-17 06:51:56--  https://github.com/jricardoct15/sep23_cds_int_medical_data/raw/main/areg_ADHD_1003_brain.nii.gz\n",
            "Resolving github.com (github.com)... 140.82.114.3\n",
            "Connecting to github.com (github.com)|140.82.114.3|:443... connected.\n",
            "HTTP request sent, awaiting response... 302 Found\n",
            "Location: https://raw.githubusercontent.com/jricardoct15/sep23_cds_int_medical_data/main/areg_ADHD_1003_brain.nii.gz [following]\n",
            "--2024-01-17 06:51:56--  https://raw.githubusercontent.com/jricardoct15/sep23_cds_int_medical_data/main/areg_ADHD_1003_brain.nii.gz\n",
            "Resolving raw.githubusercontent.com (raw.githubusercontent.com)... 185.199.108.133, 185.199.109.133, 185.199.110.133, ...\n",
            "Connecting to raw.githubusercontent.com (raw.githubusercontent.com)|185.199.108.133|:443... connected.\n",
            "HTTP request sent, awaiting response... 200 OK\n",
            "Length: 984951 (962K) [application/octet-stream]\n",
            "Failed to rename areg_ADHD_1003_brain.nii.gz to areg_ADHD_1003_brain.nii.gz.1: (2) No such file or directory\n",
            "Saving to: ‘areg_ADHD_1003_brain.nii.gz’\n",
            "\n",
            "areg_ADHD_1003_brai 100%[===================>] 961.87K  --.-KB/s    in 0.05s   \n",
            "\n",
            "2024-01-17 06:51:56 (20.6 MB/s) - ‘areg_ADHD_1003_brain.nii.gz’ saved [984951/984951]\n",
            "\n"
          ]
        }
      ]
    },
    {
      "cell_type": "code",
      "source": [
        "# https://nipy.org/nibabel/gettingstarted.html\n",
        "print(\"Image Shape: \",img1.shape)\n",
        "print(\"Data type: \",type(img1))"
      ],
      "metadata": {
        "colab": {
          "base_uri": "https://localhost:8080/"
        },
        "id": "hjPY4bCoR0S6",
        "outputId": "170eb5c6-11c7-4318-8b5f-fc00a91500aa"
      },
      "execution_count": null,
      "outputs": [
        {
          "output_type": "stream",
          "name": "stdout",
          "text": [
            "Image Shape:  (91, 109, 91)\n",
            "Data type:  <class 'numpy.ndarray'>\n"
          ]
        }
      ]
    },
    {
      "cell_type": "code",
      "source": [
        "dir(img1)"
      ],
      "metadata": {
        "id": "5QGs9bA_aPwO"
      },
      "execution_count": null,
      "outputs": []
    },
    {
      "cell_type": "markdown",
      "source": [
        "View Image"
      ],
      "metadata": {
        "id": "FpQPbcPodTJb"
      }
    },
    {
      "cell_type": "code",
      "source": [
        "test = img1[:,:,54]\n",
        "plt.imshow(test, cmap = 'gray')\n",
        "plt.show();"
      ],
      "metadata": {
        "id": "NOZb0ru5KxgT",
        "outputId": "19bb0f9e-f97a-4101-ad8b-7519e3aab81f",
        "colab": {
          "base_uri": "https://localhost:8080/",
          "height": 433
        }
      },
      "execution_count": null,
      "outputs": [
        {
          "output_type": "display_data",
          "data": {
            "text/plain": [
              "<Figure size 640x480 with 1 Axes>"
            ],
            "image/png": "[encoded data removed]"
          },
          "metadata": {}
        }
      ]
    },
    {
      "cell_type": "code",
      "source": [
        "def PlotNiftiXYZ(Image,X,Y,Z):\n",
        "  plt.subplot(2,2,1)\n",
        "  plt.imshow(Image[:,:,Z], cmap = 'gray')\n",
        "  plt.xticks([])\n",
        "  plt.yticks([])\n",
        "  plt.gcf().set_size_inches(10,10)\n",
        "\n",
        "  plt.subplot(2,2,2)\n",
        "  plt.imshow(Image[:,Y,:], cmap = 'gray')\n",
        "  plt.xticks([])\n",
        "  plt.yticks([])\n",
        "  plt.gcf().set_size_inches(10,10)\n",
        "\n",
        "  plt.subplot(2,2,3)\n",
        "  plt.imshow(Image[X,:,:], cmap = 'gray')\n",
        "  plt.xticks([])\n",
        "  plt.yticks([])\n",
        "  plt.gcf().set_size_inches(10,10)\n",
        "  plt.show()"
      ],
      "metadata": {
        "id": "SI4_zJAr5oaT"
      },
      "execution_count": null,
      "outputs": []
    },
    {
      "cell_type": "code",
      "source": [
        "PlotNiftiXYZ(img1,45,20,54)"
      ],
      "metadata": {
        "colab": {
          "base_uri": "https://localhost:8080/",
          "height": 807
        },
        "id": "Z5a_CZv56u7S",
        "outputId": "709a453a-b2ec-4468-9f65-9850f579b6a4"
      },
      "execution_count": null,
      "outputs": [
        {
          "output_type": "display_data",
          "data": {
            "text/plain": [
              "<Figure size 1000x1000 with 3 Axes>"
            ],
            "image/png": "[encoded data removed]"
          },
          "metadata": {}
        }
      ]
    },
    {
      "cell_type": "code",
      "source": [
        "def PlotNifti25(Image,Axis,Start):\n",
        "  if Axis == \"x\" or Axis==\"X\":\n",
        "    for i in range(Start,Start+25):\n",
        "      plt.subplot(5,5,i+1)\n",
        "      plt.imshow(Image[i,:,:])\n",
        "      plt.gcf().set_size_inches(15,15)\n",
        "      plt.xticks([])\n",
        "      plt.yticks([])\n",
        "    plt.show()\n",
        "  elif Axis == \"y\" or Axis==\"Y\":\n",
        "    for i in range(Start,Start+25):\n",
        "      plt.subplot(5,5,i+1)\n",
        "      plt.imshow(Image[:,i,:])\n",
        "      plt.gcf().set_size_inches(15,15)\n",
        "      plt.xticks([])\n",
        "      plt.yticks([])\n",
        "    plt.show()\n",
        "  elif Axis == \"z\" or Axis==\"Z\":\n",
        "    for i in range(Start,Start+25):\n",
        "      plt.subplot(5,5,i+1)\n",
        "      plt.imshow(Image[:,:,i])\n",
        "      plt.gcf().set_size_inches(15,15)\n",
        "      plt.xticks([])\n",
        "      plt.yticks([])\n",
        "    plt.show()\n",
        "  else:\n",
        "    print('Axis must be X,Y or Z')"
      ],
      "metadata": {
        "id": "zh1mQyu_da3R"
      },
      "execution_count": null,
      "outputs": []
    },
    {
      "cell_type": "code",
      "source": [
        "PlotNifti25(img1,\"Z\",54)"
      ],
      "metadata": {
        "colab": {
          "base_uri": "https://localhost:8080/",
          "height": 338
        },
        "id": "O49qUf_hQCYB",
        "outputId": "395b5d32-ba13-4127-e2cd-d681eda7b5bb"
      },
      "execution_count": null,
      "outputs": [
        {
          "output_type": "error",
          "ename": "ValueError",
          "evalue": "num must be an integer with 1 <= num <= 25, not 55",
          "traceback": [
            "\u001b[0;31m---------------------------------------------------------------------------\u001b[0m",
            "\u001b[0;31mValueError\u001b[0m                                Traceback (most recent call last)",
            "\u001b[0;32m<ipython-input-18-9d829e99d848>\u001b[0m in \u001b[0;36m<cell line: 1>\u001b[0;34m()\u001b[0m\n\u001b[0;32m----> 1\u001b[0;31m \u001b[0mPlotNifti25\u001b[0m\u001b[0;34m(\u001b[0m\u001b[0;34m\"Z\"\u001b[0m\u001b[0;34m,\u001b[0m\u001b[0;36m54\u001b[0m\u001b[0;34m)\u001b[0m\u001b[0;34m\u001b[0m\u001b[0;34m\u001b[0m\u001b[0m\n\u001b[0m",
            "\u001b[0;32m<ipython-input-17-f24a8df47437>\u001b[0m in \u001b[0;36mPlotNifti25\u001b[0;34m(Axis, Start)\u001b[0m\n\u001b[1;32m     18\u001b[0m   \u001b[0;32melif\u001b[0m \u001b[0mAxis\u001b[0m \u001b[0;34m==\u001b[0m \u001b[0;34m\"z\"\u001b[0m \u001b[0;32mor\u001b[0m \u001b[0mAxis\u001b[0m\u001b[0;34m==\u001b[0m\u001b[0;34m\"Z\"\u001b[0m\u001b[0;34m:\u001b[0m\u001b[0;34m\u001b[0m\u001b[0;34m\u001b[0m\u001b[0m\n\u001b[1;32m     19\u001b[0m     \u001b[0;32mfor\u001b[0m \u001b[0mi\u001b[0m \u001b[0;32min\u001b[0m \u001b[0mrange\u001b[0m\u001b[0;34m(\u001b[0m\u001b[0mStart\u001b[0m\u001b[0;34m,\u001b[0m\u001b[0mStart\u001b[0m\u001b[0;34m+\u001b[0m\u001b[0;36m25\u001b[0m\u001b[0;34m)\u001b[0m\u001b[0;34m:\u001b[0m\u001b[0;34m\u001b[0m\u001b[0;34m\u001b[0m\u001b[0m\n\u001b[0;32m---> 20\u001b[0;31m       \u001b[0mplt\u001b[0m\u001b[0;34m.\u001b[0m\u001b[0msubplot\u001b[0m\u001b[0;34m(\u001b[0m\u001b[0;36m5\u001b[0m\u001b[0;34m,\u001b[0m\u001b[0;36m5\u001b[0m\u001b[0;34m,\u001b[0m\u001b[0mi\u001b[0m\u001b[0;34m+\u001b[0m\u001b[0;36m1\u001b[0m\u001b[0;34m)\u001b[0m\u001b[0;34m\u001b[0m\u001b[0;34m\u001b[0m\u001b[0m\n\u001b[0m\u001b[1;32m     21\u001b[0m       \u001b[0mplt\u001b[0m\u001b[0;34m.\u001b[0m\u001b[0mimshow\u001b[0m\u001b[0;34m(\u001b[0m\u001b[0mimg1\u001b[0m\u001b[0;34m[\u001b[0m\u001b[0;34m:\u001b[0m\u001b[0;34m,\u001b[0m\u001b[0;34m:\u001b[0m\u001b[0;34m,\u001b[0m\u001b[0mi\u001b[0m\u001b[0;34m]\u001b[0m\u001b[0;34m)\u001b[0m\u001b[0;34m\u001b[0m\u001b[0;34m\u001b[0m\u001b[0m\n\u001b[1;32m     22\u001b[0m       \u001b[0mplt\u001b[0m\u001b[0;34m.\u001b[0m\u001b[0mgcf\u001b[0m\u001b[0;34m(\u001b[0m\u001b[0;34m)\u001b[0m\u001b[0;34m.\u001b[0m\u001b[0mset_size_inches\u001b[0m\u001b[0;34m(\u001b[0m\u001b[0;36m15\u001b[0m\u001b[0;34m,\u001b[0m\u001b[0;36m15\u001b[0m\u001b[0;34m)\u001b[0m\u001b[0;34m\u001b[0m\u001b[0;34m\u001b[0m\u001b[0m\n",
            "\u001b[0;32m/usr/local/lib/python3.10/dist-packages/matplotlib/pyplot.py\u001b[0m in \u001b[0;36msubplot\u001b[0;34m(*args, **kwargs)\u001b[0m\n\u001b[1;32m   1321\u001b[0m \u001b[0;34m\u001b[0m\u001b[0m\n\u001b[1;32m   1322\u001b[0m     \u001b[0;31m# First, search for an existing subplot with a matching spec.\u001b[0m\u001b[0;34m\u001b[0m\u001b[0;34m\u001b[0m\u001b[0m\n\u001b[0;32m-> 1323\u001b[0;31m     \u001b[0mkey\u001b[0m \u001b[0;34m=\u001b[0m \u001b[0mSubplotSpec\u001b[0m\u001b[0;34m.\u001b[0m\u001b[0m_from_subplot_args\u001b[0m\u001b[0;34m(\u001b[0m\u001b[0mfig\u001b[0m\u001b[0;34m,\u001b[0m \u001b[0margs\u001b[0m\u001b[0;34m)\u001b[0m\u001b[0;34m\u001b[0m\u001b[0;34m\u001b[0m\u001b[0m\n\u001b[0m\u001b[1;32m   1324\u001b[0m \u001b[0;34m\u001b[0m\u001b[0m\n\u001b[1;32m   1325\u001b[0m     \u001b[0;32mfor\u001b[0m \u001b[0max\u001b[0m \u001b[0;32min\u001b[0m \u001b[0mfig\u001b[0m\u001b[0;34m.\u001b[0m\u001b[0maxes\u001b[0m\u001b[0;34m:\u001b[0m\u001b[0;34m\u001b[0m\u001b[0;34m\u001b[0m\u001b[0m\n",
            "\u001b[0;32m/usr/local/lib/python3.10/dist-packages/matplotlib/gridspec.py\u001b[0m in \u001b[0;36m_from_subplot_args\u001b[0;34m(figure, args)\u001b[0m\n\u001b[1;32m    596\u001b[0m         \u001b[0;32melse\u001b[0m\u001b[0;34m:\u001b[0m\u001b[0;34m\u001b[0m\u001b[0;34m\u001b[0m\u001b[0m\n\u001b[1;32m    597\u001b[0m             \u001b[0;32mif\u001b[0m \u001b[0;32mnot\u001b[0m \u001b[0misinstance\u001b[0m\u001b[0;34m(\u001b[0m\u001b[0mnum\u001b[0m\u001b[0;34m,\u001b[0m \u001b[0mIntegral\u001b[0m\u001b[0;34m)\u001b[0m \u001b[0;32mor\u001b[0m \u001b[0mnum\u001b[0m \u001b[0;34m<\u001b[0m \u001b[0;36m1\u001b[0m \u001b[0;32mor\u001b[0m \u001b[0mnum\u001b[0m \u001b[0;34m>\u001b[0m \u001b[0mrows\u001b[0m\u001b[0;34m*\u001b[0m\u001b[0mcols\u001b[0m\u001b[0;34m:\u001b[0m\u001b[0;34m\u001b[0m\u001b[0;34m\u001b[0m\u001b[0m\n\u001b[0;32m--> 598\u001b[0;31m                 raise ValueError(\n\u001b[0m\u001b[1;32m    599\u001b[0m                     \u001b[0;34mf\"num must be an integer with 1 <= num <= {rows*cols}, \"\u001b[0m\u001b[0;34m\u001b[0m\u001b[0;34m\u001b[0m\u001b[0m\n\u001b[1;32m    600\u001b[0m                     \u001b[0;34mf\"not {num!r}\"\u001b[0m\u001b[0;34m\u001b[0m\u001b[0;34m\u001b[0m\u001b[0m\n",
            "\u001b[0;31mValueError\u001b[0m: num must be an integer with 1 <= num <= 25, not 55"
          ]
        },
        {
          "output_type": "display_data",
          "data": {
            "text/plain": [
              "<Figure size 640x480 with 0 Axes>"
            ]
          },
          "metadata": {}
        }
      ]
    },
    {
      "cell_type": "markdown",
      "source": [],
      "metadata": {
        "id": "Mk6Mj7STWXYk"
      }
    }
  ]
}